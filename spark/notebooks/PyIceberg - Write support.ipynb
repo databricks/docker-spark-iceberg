{
 "cells": [
  {
   "cell_type": "markdown",
   "id": "1041ae6f",
   "metadata": {},
   "source": [
    "![iceberg-logo](https://www.apache.org/logos/res/iceberg/iceberg.png)"
   ]
  },
  {
   "cell_type": "markdown",
   "id": "247fb2ab",
   "metadata": {},
   "source": [
    "### [Docker, Spark, and Iceberg: The Fastest Way to Try Iceberg!](https://tabular.io/blog/docker-spark-and-iceberg/)"
   ]
  },
  {
   "cell_type": "code",
   "execution_count": 30,
   "id": "6a5c8206",
   "metadata": {},
   "outputs": [
    {
     "data": {
      "text/plain": [
       "'0.6.0'"
      ]
     },
     "execution_count": 30,
     "metadata": {},
     "output_type": "execute_result"
    }
   ],
   "source": [
    "from pyiceberg import __version__\n",
    "\n",
    "__version__"
   ]
  },
  {
   "cell_type": "markdown",
   "id": "6f9a9f41",
   "metadata": {},
   "source": [
    "# Write support\n",
    "\n",
    "This notebook demonstrates writing to Iceberg tables using PyIceberg. First, connect to the [catalog](https://iceberg.apache.org/concepts/catalog/#iceberg-catalogs), the place where tables are being tracked."
   ]
  },
  {
   "cell_type": "code",
   "execution_count": 31,
   "id": "47645b52",
   "metadata": {},
   "outputs": [],
   "source": [
    "from pyiceberg.catalog import load_catalog\n",
    "\n",
    "catalog = load_catalog('default')"
   ]
  },
  {
   "cell_type": "markdown",
   "id": "c531bd4b-9943-4516-9a6a-99fab016ed2b",
   "metadata": {},
   "source": [
    "# Loading data using Arrow\n",
    "\n",
    "PyArrow is used to load a Parquet file into memory, and using PyIceberg this data can be written to an Iceberg table."
   ]
  },
  {
   "cell_type": "code",
   "execution_count": 32,
   "id": "9fddb808",
   "metadata": {},
   "outputs": [
    {
     "data": {
      "text/plain": [
       "pyarrow.Table\n",
       "VendorID: int64\n",
       "tpep_pickup_datetime: timestamp[us]\n",
       "tpep_dropoff_datetime: timestamp[us]\n",
       "passenger_count: double\n",
       "trip_distance: double\n",
       "RatecodeID: double\n",
       "store_and_fwd_flag: string\n",
       "PULocationID: int64\n",
       "DOLocationID: int64\n",
       "payment_type: int64\n",
       "fare_amount: double\n",
       "extra: double\n",
       "mta_tax: double\n",
       "tip_amount: double\n",
       "tolls_amount: double\n",
       "improvement_surcharge: double\n",
       "total_amount: double\n",
       "congestion_surcharge: double\n",
       "airport_fee: double\n",
       "----\n",
       "VendorID: [[1,1,2,2,2,...,1,2,2,2,2],[2,2,1,1,1,...,1,2,2,2,2],...,[1,1,1,1,1,...,2,1,2,2,2],[2,2,2,2,2,...,2,2,2,2,2]]\n",
       "tpep_pickup_datetime: [[2022-01-01 00:35:40.000000,2022-01-01 00:33:43.000000,2022-01-01 00:53:21.000000,2022-01-01 00:25:21.000000,2022-01-01 00:36:48.000000,...,2022-01-03 09:30:15.000000,2022-01-03 09:14:58.000000,2022-01-03 09:27:22.000000,2022-01-03 09:41:29.000000,2022-01-03 09:07:37.000000],[2022-01-03 09:45:59.000000,2022-01-03 09:57:16.000000,2022-01-03 09:00:25.000000,2022-01-03 09:34:16.000000,2022-01-03 09:57:47.000000,...,2022-01-04 23:49:13.000000,2022-01-04 23:11:02.000000,2022-01-04 23:54:40.000000,2022-01-04 23:15:58.000000,2022-01-04 23:09:06.000000],...,[2022-01-29 17:26:05.000000,2022-01-29 17:41:29.000000,2022-01-29 17:48:18.000000,2022-01-29 17:17:07.000000,2022-01-29 17:24:45.000000,...,2022-01-31 16:48:53.000000,2022-01-31 16:58:31.000000,2022-01-31 15:59:47.000000,2022-01-31 16:37:52.000000,2022-01-31 16:56:48.000000],[2022-01-31 15:57:31.000000,2022-01-31 16:08:15.000000,2022-01-31 16:36:29.000000,2022-01-31 16:08:08.000000,2022-01-31 16:43:12.000000,...,2022-01-31 23:36:53.000000,2022-01-31 23:44:22.000000,2022-01-31 23:39:00.000000,2022-01-31 23:36:42.000000,2022-01-31 23:46:00.000000]]\n",
       "tpep_dropoff_datetime: [[2022-01-01 00:53:29.000000,2022-01-01 00:42:07.000000,2022-01-01 01:02:19.000000,2022-01-01 00:35:23.000000,2022-01-01 01:14:20.000000,...,2022-01-03 09:35:13.000000,2022-01-03 09:18:22.000000,2022-01-03 09:36:40.000000,2022-01-03 09:50:40.000000,2022-01-03 09:15:39.000000],[2022-01-03 09:52:55.000000,2022-01-03 10:09:57.000000,2022-01-03 09:07:26.000000,2022-01-03 09:51:05.000000,2022-01-03 10:08:07.000000,...,2022-01-04 23:57:06.000000,2022-01-04 23:28:39.000000,2022-01-05 00:22:17.000000,2022-01-04 23:47:48.000000,2022-01-04 23:34:47.000000],...,[2022-01-29 17:33:44.000000,2022-01-29 17:45:23.000000,2022-01-29 17:57:58.000000,2022-01-29 17:23:14.000000,2022-01-29 17:37:54.000000,...,2022-01-31 17:00:01.000000,2022-01-31 17:09:10.000000,2022-01-31 16:13:47.000000,2022-01-31 16:46:26.000000,2022-01-31 16:59:46.000000],[2022-01-31 16:04:12.000000,2022-01-31 16:14:04.000000,2022-01-31 16:40:16.000000,2022-01-31 16:13:25.000000,2022-01-31 16:53:08.000000,...,2022-01-31 23:42:51.000000,2022-01-31 23:55:01.000000,2022-01-31 23:50:00.000000,2022-01-31 23:48:45.000000,2022-02-01 00:13:00.000000]]\n",
       "passenger_count: [[2,1,1,1,1,...,1,1,1,1,1],[1,1,1,1,1,...,1,1,1,1,1],...,[2,2,1,1,1,...,1,1,1,1,1],[2,2,1,1,1,...,null,null,null,null,null]]\n",
       "trip_distance: [[3.8,2.1,0.97,1.09,4.3,...,1,0.61,2.3,1.2,1.93],[1.23,2.2,1.2,3.6,1.7,...,2.7,9.03,15.21,17.58,15.09],...,[1,0.6,2.1,0.9,1.7,...,1.74,1.5,4.16,1.27,0.59],[1.28,0.74,0.53,0.73,1.65,...,1.32,4.19,2.1,2.92,8.94]]\n",
       "RatecodeID: [[1,1,1,1,1,...,1,1,1,1,1],[1,1,1,1,1,...,1,1,1,2,1],...,[1,1,1,1,1,...,1,1,1,1,1],[1,1,1,1,1,...,null,null,null,null,null]]\n",
       "store_and_fwd_flag: [[\"N\",\"N\",\"N\",\"N\",\"N\",...,\"N\",\"N\",\"N\",\"N\",\"N\"],[\"N\",\"N\",\"N\",\"N\",\"N\",...,\"N\",\"N\",\"N\",\"N\",\"N\"],...,[\"N\",\"N\",\"N\",\"N\",\"N\",...,\"N\",\"N\",\"N\",\"N\",\"N\"],[\"N\",\"N\",\"N\",\"N\",\"N\",...,null,null,null,null,null]]\n",
       "PULocationID: [[142,236,166,114,68,...,238,43,142,107,236],[43,239,43,263,164,...,79,138,138,132,132],...,[164,230,162,237,229,...,236,113,231,140,140],[107,170,164,238,162,...,90,107,113,148,186]]\n",
       "DOLocationID: [[236,42,166,68,163,...,239,151,162,100,161],[239,161,237,100,68,...,237,263,87,134,89],...,[230,161,140,229,142,...,75,164,230,237,262],[162,186,161,143,236,...,170,75,246,164,181]]\n",
       "payment_type: [[1,1,1,2,1,...,1,1,1,1,1],[1,1,1,2,1,...,2,1,1,1,1],...,[1,1,1,1,1,...,1,1,2,1,1],[1,1,1,1,1,...,0,0,0,0,0]]\n",
       "..."
      ]
     },
     "execution_count": 32,
     "metadata": {},
     "output_type": "execute_result"
    }
   ],
   "source": [
    "import pyarrow.parquet as pq\n",
    "\n",
    "df = pq.read_table(\"/home/iceberg/data/yellow_tripdata_2022-01.parquet\")\n",
    "\n",
    "df"
   ]
  },
  {
   "cell_type": "markdown",
   "id": "bf1d58ad-5cc1-4e8c-9d7b-a54e67def783",
   "metadata": {},
   "source": [
    "# Create an Iceberg table\n",
    "\n",
    "Next create the Iceberg table directly from the `pyarrow.Table`."
   ]
  },
  {
   "cell_type": "code",
   "execution_count": 33,
   "id": "47e5a21d-de87-4aaf-aa06-dc5048acba58",
   "metadata": {},
   "outputs": [
    {
     "data": {
      "text/plain": [
       "taxi_dataset(\n",
       "  1: VendorID: optional long,\n",
       "  2: tpep_pickup_datetime: optional timestamp,\n",
       "  3: tpep_dropoff_datetime: optional timestamp,\n",
       "  4: passenger_count: optional double,\n",
       "  5: trip_distance: optional double,\n",
       "  6: RatecodeID: optional double,\n",
       "  7: store_and_fwd_flag: optional string,\n",
       "  8: PULocationID: optional long,\n",
       "  9: DOLocationID: optional long,\n",
       "  10: payment_type: optional long,\n",
       "  11: fare_amount: optional double,\n",
       "  12: extra: optional double,\n",
       "  13: mta_tax: optional double,\n",
       "  14: tip_amount: optional double,\n",
       "  15: tolls_amount: optional double,\n",
       "  16: improvement_surcharge: optional double,\n",
       "  17: total_amount: optional double,\n",
       "  18: congestion_surcharge: optional double,\n",
       "  19: airport_fee: optional double\n",
       "),\n",
       "partition by: [],\n",
       "sort order: [],\n",
       "snapshot: null"
      ]
     },
     "execution_count": 33,
     "metadata": {},
     "output_type": "execute_result"
    }
   ],
   "source": [
    "table_name = \"default.taxi_dataset\"\n",
    "\n",
    "try:\n",
    "    # In case the table already exists\n",
    "    catalog.drop_table(table_name)\n",
    "except:\n",
    "    pass\n",
    "\n",
    "table = catalog.create_table(table_name, schema=df.schema)\n",
    "\n",
    "table"
   ]
  },
  {
   "cell_type": "markdown",
   "id": "d612c035-4cf6-47a0-844b-165dfb463bbc",
   "metadata": {},
   "source": [
    "# Write the data\n",
    "\n",
    "Let's append the data to the table. Appending or overwriting is equivalent since the table is empty. Next we can query the table and see that the data is there."
   ]
  },
  {
   "cell_type": "code",
   "execution_count": 34,
   "id": "efee8252",
   "metadata": {
    "pycharm": {
     "name": "#%%\n"
    }
   },
   "outputs": [
    {
     "data": {
      "text/plain": [
       "pyarrow.Table\n",
       "VendorID: int64\n",
       "tpep_pickup_datetime: timestamp[us]\n",
       "tpep_dropoff_datetime: timestamp[us]\n",
       "passenger_count: double\n",
       "trip_distance: double\n",
       "RatecodeID: double\n",
       "store_and_fwd_flag: string\n",
       "PULocationID: int64\n",
       "DOLocationID: int64\n",
       "payment_type: int64\n",
       "fare_amount: double\n",
       "extra: double\n",
       "mta_tax: double\n",
       "tip_amount: double\n",
       "tolls_amount: double\n",
       "improvement_surcharge: double\n",
       "total_amount: double\n",
       "congestion_surcharge: double\n",
       "airport_fee: double\n",
       "----\n",
       "VendorID: [[1,1,2,2,2,...,2,2,2,2,2]]\n",
       "tpep_pickup_datetime: [[2022-01-01 00:35:40.000000,2022-01-01 00:33:43.000000,2022-01-01 00:53:21.000000,2022-01-01 00:25:21.000000,2022-01-01 00:36:48.000000,...,2022-01-31 23:36:53.000000,2022-01-31 23:44:22.000000,2022-01-31 23:39:00.000000,2022-01-31 23:36:42.000000,2022-01-31 23:46:00.000000]]\n",
       "tpep_dropoff_datetime: [[2022-01-01 00:53:29.000000,2022-01-01 00:42:07.000000,2022-01-01 01:02:19.000000,2022-01-01 00:35:23.000000,2022-01-01 01:14:20.000000,...,2022-01-31 23:42:51.000000,2022-01-31 23:55:01.000000,2022-01-31 23:50:00.000000,2022-01-31 23:48:45.000000,2022-02-01 00:13:00.000000]]\n",
       "passenger_count: [[2,1,1,1,1,...,null,null,null,null,null]]\n",
       "trip_distance: [[3.8,2.1,0.97,1.09,4.3,...,1.32,4.19,2.1,2.92,8.94]]\n",
       "RatecodeID: [[1,1,1,1,1,...,null,null,null,null,null]]\n",
       "store_and_fwd_flag: [[\"N\",\"N\",\"N\",\"N\",\"N\",...,null,null,null,null,null]]\n",
       "PULocationID: [[142,236,166,114,68,...,90,107,113,148,186]]\n",
       "DOLocationID: [[236,42,166,68,163,...,170,75,246,164,181]]\n",
       "payment_type: [[1,1,1,2,1,...,0,0,0,0,0]]\n",
       "..."
      ]
     },
     "execution_count": 34,
     "metadata": {},
     "output_type": "execute_result"
    }
   ],
   "source": [
    "table.append(df)  # or table.overwrite(df)\n",
    "\n",
    "assert len(table.scan().to_arrow()) == len(df)\n",
    "\n",
    "table.scan().to_arrow()"
   ]
  },
  {
   "cell_type": "code",
   "execution_count": 35,
   "id": "9ce1cecc-8cb0-4622-b0eb-55880d091556",
   "metadata": {},
   "outputs": [
    {
     "data": {
      "text/plain": [
       "'Operation.APPEND: id=5382422337398553932, schema_id=0'"
      ]
     },
     "execution_count": 35,
     "metadata": {},
     "output_type": "execute_result"
    }
   ],
   "source": [
    "str(table.current_snapshot())"
   ]
  },
  {
   "cell_type": "markdown",
   "id": "c029ea44-8ba6-4c08-a60d-5fffac6c3666",
   "metadata": {},
   "source": [
    "# Append data\n",
    "\n",
    "Let's append another month of data to the table"
   ]
  },
  {
   "cell_type": "code",
   "execution_count": 36,
   "id": "794de3a0",
   "metadata": {},
   "outputs": [],
   "source": [
    "df = pq.read_table(\"/home/iceberg/data/yellow_tripdata_2022-02.parquet\")\n",
    "table.append(df)"
   ]
  },
  {
   "cell_type": "code",
   "execution_count": 37,
   "id": "f3ac7021",
   "metadata": {},
   "outputs": [
    {
     "data": {
      "text/plain": [
       "'Operation.APPEND: id=4731738526151278430, parent_id=5382422337398553932, schema_id=0'"
      ]
     },
     "execution_count": 37,
     "metadata": {},
     "output_type": "execute_result"
    }
   ],
   "source": [
    "str(table.current_snapshot())"
   ]
  },
  {
   "cell_type": "markdown",
   "id": "85862bdc-7476-43f4-a604-5e4dfff065c9",
   "metadata": {},
   "source": [
    "# Feature generation\n",
    "\n",
    "Consider that we want to train a model to determine which features contribute to the tip amount. `tip_per_mile` is a good target to train the model on. When we try to append the data, we need to evolve the schema first."
   ]
  },
  {
   "cell_type": "code",
   "execution_count": 38,
   "id": "72a9c64d",
   "metadata": {},
   "outputs": [
    {
     "name": "stdout",
     "output_type": "stream",
     "text": [
      "Error: Table schema does not match schema used to create file: \n",
      "table:\n",
      "VendorID: int64\n",
      "tpep_pickup_datetime: timestamp[us]\n",
      "tpep_dropoff_datetime: timestamp[us]\n",
      "passenger_count: double\n",
      "trip_distance: double\n",
      "RatecodeID: double\n",
      "store_and_fwd_flag: string\n",
      "PULocationID: int64\n",
      "DOLocationID: int64\n",
      "payment_type: int64\n",
      "fare_amount: double\n",
      "extra: double\n",
      "mta_tax: double\n",
      "tip_amount: double\n",
      "tolls_amount: double\n",
      "improvement_surcharge: double\n",
      "total_amount: double\n",
      "congestion_surcharge: double\n",
      "airport_fee: double\n",
      "tip_per_mile: double vs. \n",
      "file:\n",
      "VendorID: int64\n",
      "  -- field metadata --\n",
      "  PARQUET:field_id: '1'\n",
      "tpep_pickup_datetime: timestamp[us]\n",
      "  -- field metadata --\n",
      "  PARQUET:field_id: '2'\n",
      "tpep_dropoff_datetime: timestamp[us]\n",
      "  -- field metadata --\n",
      "  PARQUET:field_id: '3'\n",
      "passenger_count: double\n",
      "  -- field metadata --\n",
      "  PARQUET:field_id: '4'\n",
      "trip_distance: double\n",
      "  -- field metadata --\n",
      "  PARQUET:field_id: '5'\n",
      "RatecodeID: double\n",
      "  -- field metadata --\n",
      "  PARQUET:field_id: '6'\n",
      "store_and_fwd_flag: string\n",
      "  -- field metadata --\n",
      "  PARQUET:field_id: '7'\n",
      "PULocationID: int64\n",
      "  -- field metadata --\n",
      "  PARQUET:field_id: '8'\n",
      "DOLocationID: int64\n",
      "  -- field metadata --\n",
      "  PARQUET:field_id: '9'\n",
      "payment_type: int64\n",
      "  -- field metadata --\n",
      "  PARQUET:field_id: '10'\n",
      "fare_amount: double\n",
      "  -- field metadata --\n",
      "  PARQUET:field_id: '11'\n",
      "extra: double\n",
      "  -- field metadata --\n",
      "  PARQUET:field_id: '12'\n",
      "mta_tax: double\n",
      "  -- field metadata --\n",
      "  PARQUET:field_id: '13'\n",
      "tip_amount: double\n",
      "  -- field metadata --\n",
      "  PARQUET:field_id: '14'\n",
      "tolls_amount: double\n",
      "  -- field metadata --\n",
      "  PARQUET:field_id: '15'\n",
      "improvement_surcharge: double\n",
      "  -- field metadata --\n",
      "  PARQUET:field_id: '16'\n",
      "total_amount: double\n",
      "  -- field metadata --\n",
      "  PARQUET:field_id: '17'\n",
      "congestion_surcharge: double\n",
      "  -- field metadata --\n",
      "  PARQUET:field_id: '18'\n",
      "airport_fee: double\n",
      "  -- field metadata --\n",
      "  PARQUET:field_id: '19'\n"
     ]
    }
   ],
   "source": [
    "import pyarrow.compute as pc\n",
    "\n",
    "df = table.scan().to_arrow()\n",
    "df = df.append_column(\"tip_per_mile\", pc.divide(df[\"tip_amount\"], df[\"trip_distance\"]))\n",
    "\n",
    "try:\n",
    "    table.overwrite(df)\n",
    "except ValueError as e:\n",
    "    print(f\"Error: {e}\")"
   ]
  },
  {
   "cell_type": "code",
   "execution_count": 39,
   "id": "9aafd972-30d2-41ec-90e1-d5e17baeaf0b",
   "metadata": {},
   "outputs": [
    {
     "name": "stdout",
     "output_type": "stream",
     "text": [
      "table {\n",
      "  1: VendorID: optional long\n",
      "  2: tpep_pickup_datetime: optional timestamp\n",
      "  3: tpep_dropoff_datetime: optional timestamp\n",
      "  4: passenger_count: optional double\n",
      "  5: trip_distance: optional double\n",
      "  6: RatecodeID: optional double\n",
      "  7: store_and_fwd_flag: optional string\n",
      "  8: PULocationID: optional long\n",
      "  9: DOLocationID: optional long\n",
      "  10: payment_type: optional long\n",
      "  11: fare_amount: optional double\n",
      "  12: extra: optional double\n",
      "  13: mta_tax: optional double\n",
      "  14: tip_amount: optional double\n",
      "  15: tolls_amount: optional double\n",
      "  16: improvement_surcharge: optional double\n",
      "  17: total_amount: optional double\n",
      "  18: congestion_surcharge: optional double\n",
      "  19: airport_fee: optional double\n",
      "  20: tip_per_mile: optional double\n",
      "}\n"
     ]
    }
   ],
   "source": [
    "with table.update_schema() as upd:\n",
    "    upd.union_by_name(df.schema)\n",
    "\n",
    "print(str(table.schema()))"
   ]
  },
  {
   "cell_type": "code",
   "execution_count": 40,
   "id": "ea4ee286-1943-4a88-8d96-1e2a9e11faa1",
   "metadata": {},
   "outputs": [
    {
     "data": {
      "text/plain": [
       "taxi_dataset(\n",
       "  1: VendorID: optional long,\n",
       "  2: tpep_pickup_datetime: optional timestamp,\n",
       "  3: tpep_dropoff_datetime: optional timestamp,\n",
       "  4: passenger_count: optional double,\n",
       "  5: trip_distance: optional double,\n",
       "  6: RatecodeID: optional double,\n",
       "  7: store_and_fwd_flag: optional string,\n",
       "  8: PULocationID: optional long,\n",
       "  9: DOLocationID: optional long,\n",
       "  10: payment_type: optional long,\n",
       "  11: fare_amount: optional double,\n",
       "  12: extra: optional double,\n",
       "  13: mta_tax: optional double,\n",
       "  14: tip_amount: optional double,\n",
       "  15: tolls_amount: optional double,\n",
       "  16: improvement_surcharge: optional double,\n",
       "  17: total_amount: optional double,\n",
       "  18: congestion_surcharge: optional double,\n",
       "  19: airport_fee: optional double,\n",
       "  20: tip_per_mile: optional double\n",
       "),\n",
       "partition by: [],\n",
       "sort order: [],\n",
       "snapshot: Operation.OVERWRITE: id=7739515532572230599, parent_id=4731738526151278430, schema_id=1"
      ]
     },
     "execution_count": 40,
     "metadata": {},
     "output_type": "execute_result"
    }
   ],
   "source": [
    "table.overwrite(df)\n",
    "\n",
    "table"
   ]
  }
 ],
 "metadata": {
  "kernelspec": {
   "display_name": "Python 3 (ipykernel)",
   "language": "python",
   "name": "python3"
  },
  "language_info": {
   "codemirror_mode": {
    "name": "ipython",
    "version": 3
   },
   "file_extension": ".py",
   "mimetype": "text/x-python",
   "name": "python",
   "nbconvert_exporter": "python",
   "pygments_lexer": "ipython3",
   "version": "3.9.18"
  }
 },
 "nbformat": 4,
 "nbformat_minor": 5
}
