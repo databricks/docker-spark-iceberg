{
 "cells": [
  {
   "cell_type": "code",
   "execution_count": 1,
   "id": "6cbf080f",
   "metadata": {},
   "outputs": [
    {
     "data": {
      "text/html": [
       "\n",
       "            <div>\n",
       "                <p><b>SparkSession - hive</b></p>\n",
       "                \n",
       "        <div>\n",
       "            <p><b>SparkContext</b></p>\n",
       "\n",
       "            <p><a href=\"http://3d0dab1ab88c:4040\">Spark UI</a></p>\n",
       "\n",
       "            <dl>\n",
       "              <dt>Version</dt>\n",
       "                <dd><code>v3.1.2</code></dd>\n",
       "              <dt>Master</dt>\n",
       "                <dd><code>local[*]</code></dd>\n",
       "              <dt>AppName</dt>\n",
       "                <dd><code>PySparkShell</code></dd>\n",
       "            </dl>\n",
       "        </div>\n",
       "        \n",
       "            </div>\n",
       "        "
      ],
      "text/plain": [
       "<pyspark.sql.session.SparkSession at 0x7fbacc91bc70>"
      ]
     },
     "execution_count": 1,
     "metadata": {},
     "output_type": "execute_result"
    }
   ],
   "source": [
    "spark"
   ]
  },
  {
   "cell_type": "code",
   "execution_count": 2,
   "id": "1c37ca92",
   "metadata": {},
   "outputs": [],
   "source": [
    "df = spark.read.option(\"header\", True).csv(\"/home/iceberg/data/yellow_tripdata_2020-04.csv\")"
   ]
  },
  {
   "cell_type": "code",
   "execution_count": 3,
   "id": "2cbfbf2f",
   "metadata": {},
   "outputs": [
    {
     "name": "stderr",
     "output_type": "stream",
     "text": [
      "                                                                                \r"
     ]
    }
   ],
   "source": [
    "df.write.saveAsTable(\"taxis\")"
   ]
  },
  {
   "cell_type": "code",
   "execution_count": 4,
   "id": "2f1387d3",
   "metadata": {},
   "outputs": [
    {
     "name": "stderr",
     "output_type": "stream",
     "text": [
      "                                                                                \r"
     ]
    },
    {
     "data": {
      "text/plain": [
       "DataFrame[]"
      ]
     },
     "execution_count": 4,
     "metadata": {},
     "output_type": "execute_result"
    }
   ],
   "source": [
    "spark.sql(\"insert overwrite taxis select * from taxis\")"
   ]
  },
  {
   "cell_type": "code",
   "execution_count": 5,
   "id": "8de5d931",
   "metadata": {},
   "outputs": [
    {
     "name": "stdout",
     "output_type": "stream",
     "text": [
      "+--------+--------------------+---------------------+---------------+-------------+----------+------------------+------------+------------+------------+-----------+-----+-------+----------+------------+---------------------+------------+--------------------+\n",
      "|VendorID|tpep_pickup_datetime|tpep_dropoff_datetime|passenger_count|trip_distance|RatecodeID|store_and_fwd_flag|PULocationID|DOLocationID|payment_type|fare_amount|extra|mta_tax|tip_amount|tolls_amount|improvement_surcharge|total_amount|congestion_surcharge|\n",
      "+--------+--------------------+---------------------+---------------+-------------+----------+------------------+------------+------------+------------+-----------+-----+-------+----------+------------+---------------------+------------+--------------------+\n",
      "|       1| 2020-04-01 00:41:22|  2020-04-01 01:01:53|              1|         1.20|         1|                 N|          41|          24|           2|        5.5|  0.5|    0.5|         0|           0|                  0.3|         6.8|                   0|\n",
      "|       1| 2020-04-01 00:56:00|  2020-04-01 01:09:25|              1|         3.40|         1|                 N|          95|         197|           1|       12.5|  0.5|    0.5|      2.75|           0|                  0.3|       16.55|                   0|\n",
      "|       1| 2020-04-01 00:00:26|  2020-04-01 00:09:25|              1|         2.80|         1|                 N|         237|         137|           1|         10|    3|    0.5|         1|           0|                  0.3|        14.8|                 2.5|\n",
      "|       1| 2020-04-01 00:24:38|  2020-04-01 00:34:38|              0|         2.60|         1|                 N|          68|         142|           1|         10|    3|    0.5|         1|           0|                  0.3|        14.8|                 2.5|\n",
      "|       2| 2020-04-01 00:13:24|  2020-04-01 00:18:26|              1|         1.44|         1|                 Y|         263|          74|           1|        6.5|  0.5|    0.5|         3|           0|                  0.3|        13.3|                 2.5|\n",
      "|       2| 2020-04-01 00:24:36|  2020-04-01 00:33:09|              1|         2.93|         1|                 N|          75|         170|           2|       10.5|  0.5|    0.5|         0|           0|                  0.3|        14.3|                 2.5|\n",
      "|       2| 2020-04-01 00:56:56|  2020-04-01 01:09:13|              1|         6.86|         1|                 N|         141|         243|           1|         20|  0.5|    0.5|      4.76|           0|                  0.3|       28.56|                 2.5|\n",
      "|       2| 2020-04-01 00:06:56|  2020-04-01 00:14:15|              1|         1.19|         1|                 N|         137|          68|           2|          7|  0.5|    0.5|         0|           0|                  0.3|        10.8|                 2.5|\n",
      "|       1| 2020-04-01 00:50:05|  2020-04-01 01:08:54|              1|        11.30|         1|                 N|         229|         185|           2|       31.5|    3|    0.5|         0|           0|                  0.3|        35.3|                 2.5|\n",
      "|       2| 2020-04-01 00:07:10|  2020-04-01 00:18:45|              1|         3.68|         1|                 N|         140|         226|           1|         13|  0.5|    0.5|      3.36|           0|                  0.3|       20.16|                 2.5|\n",
      "|       1| 2020-04-01 00:37:21|  2020-04-01 00:46:00|              1|         1.40|         1|                 N|         249|           4|           1|          8|    3|    0.5|         2|           0|                  0.3|        13.8|                 2.5|\n",
      "|       2| 2020-04-01 00:19:44|  2020-04-01 00:22:27|              3|          .55|         1|                 N|         236|         263|           2|          4|  0.5|    0.5|         0|           0|                  0.3|         7.8|                 2.5|\n",
      "|       2| 2020-04-01 00:13:15|  2020-04-01 00:18:30|              3|          .85|         1|                 N|          68|         246|           2|          6|  0.5|    0.5|         0|           0|                  0.3|         9.8|                 2.5|\n",
      "|       2| 2020-04-01 00:34:54|  2020-04-01 01:04:55|              3|         7.32|         1|                 N|          48|         223|           2|       24.5|  0.5|    0.5|         0|           0|                  0.3|        28.3|                 2.5|\n",
      "|       2| 2020-04-01 00:03:53|  2020-04-01 00:12:10|              1|         4.37|         1|                 N|          75|         224|           4|      -14.5| -0.5|   -0.5|         0|           0|                 -0.3|       -18.3|                -2.5|\n",
      "|       2| 2020-04-01 00:03:53|  2020-04-01 00:12:10|              1|         4.37|         1|                 N|          75|         224|           2|       14.5|  0.5|    0.5|         0|           0|                  0.3|        18.3|                 2.5|\n",
      "|       2| 2020-04-01 00:26:37|  2020-04-01 00:37:13|              1|         4.55|         1|                 N|         137|          74|           4|      -13.5| -0.5|   -0.5|         0|           0|                 -0.3|       -17.3|                -2.5|\n",
      "|       2| 2020-04-01 00:26:37|  2020-04-01 00:37:13|              1|         4.55|         1|                 N|         137|          74|           2|       13.5|  0.5|    0.5|         0|           0|                  0.3|        17.3|                 2.5|\n",
      "|       1| 2020-04-01 00:20:11|  2020-04-01 00:45:10|              1|         9.90|         1|                 N|         137|          61|           1|       29.5|    3|    0.5|         2|           0|                  0.3|        35.3|                 2.5|\n",
      "|       1| 2020-04-01 00:27:35|  2020-04-01 00:38:50|              1|         3.70|         1|                 N|         161|           4|           1|       12.5|    3|    0.5|         1|           0|                  0.3|        17.3|                 2.5|\n",
      "+--------+--------------------+---------------------+---------------+-------------+----------+------------------+------------+------------+------------+-----------+-----+-------+----------+------------+---------------------+------------+--------------------+\n",
      "only showing top 20 rows\n",
      "\n"
     ]
    }
   ],
   "source": [
    "spark.sql(\"select * from taxis\").show()"
   ]
  },
  {
   "cell_type": "code",
   "execution_count": 6,
   "id": "955a4c52",
   "metadata": {},
   "outputs": [
    {
     "name": "stderr",
     "output_type": "stream",
     "text": [
      "21/11/17 01:16:40 WARN HiveConf: HiveConf of name hive.stats.jdbc.timeout does not exist\n",
      "21/11/17 01:16:40 WARN HiveConf: HiveConf of name hive.stats.retries.wait does not exist\n",
      "21/11/17 01:16:43 WARN ObjectStore: Version information not found in metastore. hive.metastore.schema.verification is not enabled so recording the schema version 2.3.0\n",
      "21/11/17 01:16:43 WARN ObjectStore: setMetaStoreSchemaVersion called but recording version is disabled: version = 2.3.0, comment = Set by MetaStore UNKNOWN@172.21.0.3\n"
     ]
    },
    {
     "name": "stdout",
     "output_type": "stream",
     "text": [
      "+--------------------+-------------------+-------------------+-------------------+\n",
      "|     made_current_at|        snapshot_id|          parent_id|is_current_ancestor|\n",
      "+--------------------+-------------------+-------------------+-------------------+\n",
      "|2021-11-17 01:16:...|2170535902205981709|               null|               true|\n",
      "|2021-11-17 01:16:...|3076272200608150685|2170535902205981709|               true|\n",
      "+--------------------+-------------------+-------------------+-------------------+\n",
      "\n"
     ]
    },
    {
     "name": "stderr",
     "output_type": "stream",
     "text": [
      "21/11/17 01:16:43 WARN ObjectStore: Failed to get database global_temp, returning NoSuchObjectException\n"
     ]
    }
   ],
   "source": [
    "spark.sql(\"select * from taxis.history\").show()"
   ]
  },
  {
   "cell_type": "code",
   "execution_count": null,
   "id": "91b801d3",
   "metadata": {},
   "outputs": [],
   "source": []
  }
 ],
 "metadata": {
  "kernelspec": {
   "display_name": "Python 3 (ipykernel)",
   "language": "python",
   "name": "python3"
  },
  "language_info": {
   "codemirror_mode": {
    "name": "ipython",
    "version": 3
   },
   "file_extension": ".py",
   "mimetype": "text/x-python",
   "name": "python",
   "nbconvert_exporter": "python",
   "pygments_lexer": "ipython3",
   "version": "3.9.4"
  }
 },
 "nbformat": 4,
 "nbformat_minor": 5
}
